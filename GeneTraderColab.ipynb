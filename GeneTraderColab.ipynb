{
  "cells": [
    {
      "cell_type": "code",
      "execution_count": null,
      "metadata": {
        "id": "hD-5FeNDC0Z5",
        "trusted": true
      },
      "outputs": [],
      "source": [
        "!pip install -r requirements.txt"
      ]
    },
    {
      "cell_type": "code",
      "execution_count": null,
      "metadata": {
        "id": "02AMcALLC0Z5",
        "trusted": true
      },
      "outputs": [],
      "source": [
        "!python scripts/get_pairs.py --mode volume --top-n 15 --output-config config.json"
      ]
    },
    {
      "cell_type": "code",
      "execution_count": null,
      "metadata": {
        "id": "LIXLttG5QhRw"
      },
      "outputs": [],
      "source": [
        "!python main.py --download --start-date 20250101"
      ]
    },
    {
      "cell_type": "code",
      "execution_count": null,
      "metadata": {
        "colab": {
          "base_uri": "https://localhost:8080/"
        },
        "execution": {
          "iopub.execute_input": "2025-10-21T09:12:08.861061Z",
          "iopub.status.busy": "2025-10-21T09:12:08.860576Z",
          "iopub.status.idle": "2025-10-21T09:12:09.28795Z",
          "shell.execute_reply": "2025-10-21T09:12:09.286533Z",
          "shell.execute_reply.started": "2025-10-21T09:12:08.861028Z"
        },
        "id": "6fgHXaeHC0Z5",
        "outputId": "332f8588-b6bb-4b6a-b45f-bbfdf47344b5",
        "trusted": true
      },
      "outputs": [],
      "source": [
        "!rm user_data/strategies/*\n",
        "!python main.py"
      ]
    }
  ],
  "metadata": {
    "colab": {
      "provenance": []
    },
    "kaggle": {
      "accelerator": "none",
      "dataSources": [],
      "dockerImageVersionId": 31153,
      "isGpuEnabled": false,
      "isInternetEnabled": true,
      "language": "python",
      "sourceType": "notebook"
    },
    "kernelspec": {
      "display_name": ".venv",
      "language": "python",
      "name": "python3"
    },
    "language_info": {
      "codemirror_mode": {
        "name": "ipython",
        "version": 3
      },
      "file_extension": ".py",
      "mimetype": "text/x-python",
      "name": "python",
      "nbconvert_exporter": "python",
      "pygments_lexer": "ipython3",
      "version": "3.12.3"
    }
  },
  "nbformat": 4,
  "nbformat_minor": 0
}
