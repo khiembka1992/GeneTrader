{
  "cells": [
    {
      "cell_type": "code",
      "execution_count": null,
      "metadata": {
        "id": "hD-5FeNDC0Z5",
        "trusted": true
      },
      "outputs": [
        {
          "ename": "",
          "evalue": "",
          "output_type": "error",
          "traceback": [
            "\u001b[1;31mRunning cells with 'Python 3.12.3' requires the ipykernel package.\n",
            "\u001b[1;31m<a href='command:jupyter.createPythonEnvAndSelectController'>Create a Python Environment</a> with the required packages."
          ]
        }
      ],
      "source": [
        "!pip install -r requirements.txt"
      ]
    },
    {
      "cell_type": "code",
      "execution_count": 1,
      "metadata": {
        "id": "02AMcALLC0Z5",
        "trusted": true
      },
      "outputs": [
        {
          "name": "stdout",
          "output_type": "stream",
          "text": [
            "\u001b[32m2025-10-21 18:41:08.103\u001b[0m | \u001b[1mINFO    \u001b[0m | \u001b[36m__main__\u001b[0m:\u001b[36mload_blacklist\u001b[0m:\u001b[36m43\u001b[0m - \u001b[1m最近下架的币种 (2024-12-02): CVP, EPX, LOOM, REEF, VGX\u001b[0m\n",
            "\u001b[32m2025-10-21 18:41:08.104\u001b[0m | \u001b[1mINFO    \u001b[0m | \u001b[36m__main__\u001b[0m:\u001b[36mload_blacklist\u001b[0m:\u001b[36m44\u001b[0m - \u001b[1m下架公告: Binance Will Delist CVP, EPX, FOR, LOOM, REEF, VGX on 2024-08-26\u001b[0m\n",
            "\u001b[32m2025-10-21 18:41:08.104\u001b[0m | \u001b[1mINFO    \u001b[0m | \u001b[36m__main__\u001b[0m:\u001b[36mload_blacklist\u001b[0m:\u001b[36m47\u001b[0m - \u001b[1m从 data/delisted_coins.json 加载了 17 个下架币种\u001b[0m\n",
            "\u001b[32m2025-10-21 18:41:08.104\u001b[0m | \u001b[1mINFO    \u001b[0m | \u001b[36m__main__\u001b[0m:\u001b[36mload_blacklist\u001b[0m:\u001b[36m51\u001b[0m - \u001b[1m黑名单总计 20 个币种\u001b[0m\n",
            "\u001b[32m2025-10-21 18:41:08.107\u001b[0m | \u001b[1mINFO    \u001b[0m | \u001b[36m__main__\u001b[0m:\u001b[36mget_binance_usdt_pairs\u001b[0m:\u001b[36m100\u001b[0m - \u001b[1m已过滤掉以下交易对: BNB/USDT, BNB/USDT, OAX/USDT, OAX/USDT, BNB/USDT, LOOM/USDT, LOOM/USDT, LOOM/USDT, KEY/USDT, KEY/USDT, BNB/USDT, REN/USDT, REN/USDT, BNB/USDT, BNB/USDT, BNB/USDT, KEY/USDT, BNB/USDT, REN/USDT, BNB/USDT, BNB/USDT, BNB/USDT, BNB/USDT, EUR/USDT, EUR/USDT, BNBBULL/USDT, BNBBULL/USDT, BNBBEAR/USDT, BNBBEAR/USDT, BNB/USDT, BNB/USDT, BNB/USDT, BNB/USDT, BNB/USDT, IRIS/USDT, IRIS/USDT, IRIS/USDT, BNBUP/USDT, BNBDOWN/USDT, BNB/USDT, IRIS/USDT, BNB/USDT, KP3R/USDT, KP3R/USDT, BNB/USDT, RENBTC/USDT, RENBTC/USDT, CVP/USDT, CVP/USDT, UNFI/USDT, UNFI/USDT, UNFI/USDT, UNFI/USDT, REEF/USDT, REEF/USDT, REEF/USDT, BNB/USDT, VGX/USDT, VGX/USDT, BNB/USDT, REN/USDT, CVP/USDT, REEF/USDT, REEF/USDT, KP3R/USDT, VGX/USDT, OOKI/USDT, OOKI/USDT, OOKI/USDT, OOKI/USDT, BNB/USDT, EPX/USDT, EPX/USDT, KEY/USDT, UNFI/USDT, LOOM/USDT, GFT/USDT, LOOM/USDT, OAX/USDT, BNB/USDT, UNFI/USDT, GFT/USDT, LOOM/USDT, AEUR/USDT, EUR/USDT, BNB/USDT, EUR/USDT, RENDER/USDT, RENDER/USDT, RENDER/USDT, RENDER/USDT, RENDER/USDT, RENDER/USDT, RENDER/USDT, EUR/USDT, EURI/USDT, COOKIE/USDT, COOKIE/USDT, BNB/USDT, EURI/USDT\u001b[0m\n",
            "\u001b[32m2025-10-21 18:41:08.107\u001b[0m | \u001b[1mINFO    \u001b[0m | \u001b[36m__main__\u001b[0m:\u001b[36mget_binance_usdt_pairs\u001b[0m:\u001b[36m105\u001b[0m - \u001b[1mTop 10 pairs by USDT volume:\u001b[0m\n",
            "\u001b[32m2025-10-21 18:41:08.107\u001b[0m | \u001b[1mINFO    \u001b[0m | \u001b[36m__main__\u001b[0m:\u001b[36mget_binance_usdt_pairs\u001b[0m:\u001b[36m107\u001b[0m - \u001b[1mBTC/USDT: 2,018,731,847.94 USDT\u001b[0m\n",
            "\u001b[32m2025-10-21 18:41:08.107\u001b[0m | \u001b[1mINFO    \u001b[0m | \u001b[36m__main__\u001b[0m:\u001b[36mget_binance_usdt_pairs\u001b[0m:\u001b[36m107\u001b[0m - \u001b[1mETH/USDT: 1,768,579,897.43 USDT\u001b[0m\n",
            "\u001b[32m2025-10-21 18:41:08.107\u001b[0m | \u001b[1mINFO    \u001b[0m | \u001b[36m__main__\u001b[0m:\u001b[36mget_binance_usdt_pairs\u001b[0m:\u001b[36m107\u001b[0m - \u001b[1mSOL/USDT: 554,188,899.46 USDT\u001b[0m\n",
            "\u001b[32m2025-10-21 18:41:08.108\u001b[0m | \u001b[1mINFO    \u001b[0m | \u001b[36m__main__\u001b[0m:\u001b[36mget_binance_usdt_pairs\u001b[0m:\u001b[36m107\u001b[0m - \u001b[1mXRP/USDT: 316,933,314.79 USDT\u001b[0m\n",
            "\u001b[32m2025-10-21 18:41:08.108\u001b[0m | \u001b[1mINFO    \u001b[0m | \u001b[36m__main__\u001b[0m:\u001b[36mget_binance_usdt_pairs\u001b[0m:\u001b[36m107\u001b[0m - \u001b[1mWAL/USDT: 252,087,270.28 USDT\u001b[0m\n",
            "\u001b[32m2025-10-21 18:41:08.108\u001b[0m | \u001b[1mINFO    \u001b[0m | \u001b[36m__main__\u001b[0m:\u001b[36mget_binance_usdt_pairs\u001b[0m:\u001b[36m107\u001b[0m - \u001b[1mDOGE/USDT: 193,020,676.56 USDT\u001b[0m\n",
            "\u001b[32m2025-10-21 18:41:08.108\u001b[0m | \u001b[1mINFO    \u001b[0m | \u001b[36m__main__\u001b[0m:\u001b[36mget_binance_usdt_pairs\u001b[0m:\u001b[36m107\u001b[0m - \u001b[1mZEC/USDT: 175,749,490.67 USDT\u001b[0m\n",
            "\u001b[32m2025-10-21 18:41:08.108\u001b[0m | \u001b[1mINFO    \u001b[0m | \u001b[36m__main__\u001b[0m:\u001b[36mget_binance_usdt_pairs\u001b[0m:\u001b[36m107\u001b[0m - \u001b[1mASTER/USDT: 150,069,945.34 USDT\u001b[0m\n",
            "\u001b[32m2025-10-21 18:41:08.108\u001b[0m | \u001b[1mINFO    \u001b[0m | \u001b[36m__main__\u001b[0m:\u001b[36mget_binance_usdt_pairs\u001b[0m:\u001b[36m107\u001b[0m - \u001b[1mZBT/USDT: 108,881,824.66 USDT\u001b[0m\n",
            "\u001b[32m2025-10-21 18:41:08.108\u001b[0m | \u001b[1mINFO    \u001b[0m | \u001b[36m__main__\u001b[0m:\u001b[36mget_binance_usdt_pairs\u001b[0m:\u001b[36m107\u001b[0m - \u001b[1mLINK/USDT: 98,785,637.62 USDT\u001b[0m\n",
            "\u001b[32m2025-10-21 18:41:08.133\u001b[0m | \u001b[1mINFO    \u001b[0m | \u001b[36m__main__\u001b[0m:\u001b[36msave_to_json\u001b[0m:\u001b[36m129\u001b[0m - \u001b[1m数据已保存到: binance_usdt_pairs_20251021_184108.json\u001b[0m\n",
            "\u001b[32m2025-10-21 18:41:08.133\u001b[0m | \u001b[1mINFO    \u001b[0m | \u001b[36m__main__\u001b[0m:\u001b[36mmain\u001b[0m:\u001b[36m187\u001b[0m - \u001b[1m共获取到 15 个USDT交易对\u001b[0m\n",
            "\u001b[32m2025-10-21 18:41:08.133\u001b[0m | \u001b[1mINFO    \u001b[0m | \u001b[36m__main__\u001b[0m:\u001b[36mupdate_config_json\u001b[0m:\u001b[36m150\u001b[0m - \u001b[1m成功将交易对列表保存到: /root/GeneTrader/user_data/config.json\u001b[0m\n"
          ]
        }
      ],
      "source": [
        "!python scripts/get_pairs.py --mode volume --top-n 15 --output-config config.json"
      ]
    },
    {
      "cell_type": "code",
      "execution_count": null,
      "metadata": {
        "id": "LIXLttG5QhRw"
      },
      "outputs": [
        {
          "name": "stdout",
          "output_type": "stream",
          "text": [
            "2025-10-21 18:41:29 - INFO - Downloading data from 2025-01-01\n",
            "2025-10-21 18:41:29 - INFO - Downloading data with command: /root/GeneTrader/.venv/bin/freqtrade download-data --config user_data/config.json --datadir user_data/data/binance --timerange 20250101- -t 1m 5m 15m 1h 4h 1d 1w 1M\n"
          ]
        }
      ],
      "source": [
        "!python main.py --download --start-date 20250101"
      ]
    },
    {
      "cell_type": "code",
      "execution_count": null,
      "metadata": {
        "colab": {
          "base_uri": "https://localhost:8080/"
        },
        "execution": {
          "iopub.execute_input": "2025-10-21T09:12:08.861061Z",
          "iopub.status.busy": "2025-10-21T09:12:08.860576Z",
          "iopub.status.idle": "2025-10-21T09:12:09.28795Z",
          "shell.execute_reply": "2025-10-21T09:12:09.286533Z",
          "shell.execute_reply.started": "2025-10-21T09:12:08.861028Z"
        },
        "id": "6fgHXaeHC0Z5",
        "outputId": "332f8588-b6bb-4b6a-b45f-bbfdf47344b5",
        "trusted": true
      },
      "outputs": [],
      "source": [
        "!rm user_data/strategies/*\n",
        "!python main.py"
      ]
    }
  ],
  "metadata": {
    "colab": {
      "provenance": []
    },
    "kaggle": {
      "accelerator": "none",
      "dataSources": [],
      "dockerImageVersionId": 31153,
      "isGpuEnabled": false,
      "isInternetEnabled": true,
      "language": "python",
      "sourceType": "notebook"
    },
    "kernelspec": {
      "display_name": ".venv",
      "language": "python",
      "name": "python3"
    },
    "language_info": {
      "codemirror_mode": {
        "name": "ipython",
        "version": 3
      },
      "file_extension": ".py",
      "mimetype": "text/x-python",
      "name": "python",
      "nbconvert_exporter": "python",
      "pygments_lexer": "ipython3",
      "version": "3.12.3"
    }
  },
  "nbformat": 4,
  "nbformat_minor": 0
}
